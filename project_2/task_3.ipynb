{
 "cells": [
  {
   "cell_type": "code",
   "execution_count": 21,
   "metadata": {},
   "outputs": [],
   "source": [
    "import sympy as sp\n",
    "from sympy import Matrix, pprint\n",
    "import random\n",
    "from scipy.spatial.distance import hamming\n",
    "import itertools"
   ]
  },
  {
   "cell_type": "code",
   "execution_count": 22,
   "metadata": {},
   "outputs": [],
   "source": [
    "#Customize scipy's hamming distance function\n",
    "def hamming_distance(a, b):\n",
    "    if not (isinstance(a, list) and isinstance(b, list)):\n",
    "        return int(hamming(list(a), list(b)) * len(a))\n",
    "    return int(hamming(a, b) * len(a))\n"
   ]
  },
  {
   "cell_type": "code",
   "execution_count": 23,
   "metadata": {},
   "outputs": [
    {
     "name": "stdout",
     "output_type": "stream",
     "text": [
      "⎡1  0  0  2  4⎤\n",
      "⎢             ⎥\n",
      "⎢0  1  0  1  0⎥\n",
      "⎢             ⎥\n",
      "⎣0  0  1  5  6⎦\n"
     ]
    }
   ],
   "source": [
    "e1 = Matrix([1, 0, 0, 2, 4])\n",
    "e2 = Matrix([0, 1, 0, 1, 0])\n",
    "e3 = Matrix([0, 0, 1, 5, 6])\n",
    "\n",
    "G = Matrix([e1.transpose(), e2.transpose(), e3.transpose()])\n",
    "pprint(G)"
   ]
  },
  {
   "cell_type": "code",
   "execution_count": 42,
   "metadata": {},
   "outputs": [],
   "source": [
    "# Generate a random vector from the space Z^5 modulo 7\n",
    "def generate_random_vector():\n",
    "    return Matrix([random.randint(0, 6) for i in range(5)])\n",
    "\n",
    "# Find the minimal hamming distance\n",
    "def find_minimal_distance(v: Matrix, G: Matrix):\n",
    "    min_distance = len(v)\n",
    "    for x in itertools.product(range(7), repeat=3):\n",
    "        vector = (Matrix(x).T * G).T % 7\n",
    "        distance = hamming_distance(v, vector)\n",
    "        if distance < min_distance:\n",
    "            min_distance = distance\n",
    "    return min_distance\n",
    "\n",
    "# Generate the minimal distance subspace for vector v from Z^5 modulo 7 and generative matrix G\n",
    "def generate_minimal_distance_subspace(v: Matrix, G: Matrix):\n",
    "    min_distance = find_minimal_distance(v, G)\n",
    "    subspace = []\n",
    "    for x in itertools.product(range(7), repeat=3):\n",
    "        vector = (Matrix(x).T * G).T % 7\n",
    "        if hamming_distance(v, vector) == min_distance and vector not in subspace:\n",
    "            subspace.append(vector)\n",
    "    return subspace\n",
    "\n",
    "# Choose random vector from the space\n",
    "def choose_random_vector(S: list):\n",
    "    return S[random.randint(0, len(S) - 1)]\n",
    "\n",
    "# Implement the minimize hamming distance algorithm\n",
    "def minimize_hamming_distance(v: Matrix, G: Matrix):\n",
    "    return choose_random_vector(generate_minimal_distance_subspace(v, G))\n",
    "    # POPRAWIĆ!!!!!\n",
    "\n",
    "\n"
   ]
  },
  {
   "cell_type": "code",
   "execution_count": 43,
   "metadata": {},
   "outputs": [
    {
     "name": "stdout",
     "output_type": "stream",
     "text": [
      "For the clarity of the output, we will display the vectors as transposed.\n",
      "------------------- Test 1 -----------------------\n",
      "v: [2  0  0  6  5]\n",
      "Minimal distance subspace: \n",
      "[[2  0  0  4  1], [2  0  3  5  5], [2  0  6  6  2], [2  1  3  6  5], [2  2  0 \n",
      " 6  1]]\n",
      "Random vector from the subspace: [2  2  0  6  1]\n",
      "--------------------------------------------------\n",
      "------------------- Test 2 -----------------------\n",
      "v: [6  3  0  0  5]\n",
      "Minimal distance subspace: \n",
      "[[1  3  6  0  5], [2  3  0  0  1], [3  1  0  0  5], [3  3  0  2  5], [6  2  0 \n",
      " 0  3], [6  3  0  1  3], [6  3  4  0  6], [6  3  5  5  5], [6  5  5  0  5]]\n",
      "Random vector from the subspace: [3  1  0  0  5]\n",
      "--------------------------------------------------\n",
      "------------------- Test 3 -----------------------\n",
      "v: [6  4  4  3  2]\n",
      "Minimal distance subspace: \n",
      "[[0  4  4  3  3], [2  4  6  3  2], [5  1  4  3  2], [5  4  4  6  2], [6  0  1 \n",
      " 3  2], [6  4  1  0  2], [6  4  3  3  0], [6  4  4  1  6], [6  6  4  3  6]]\n",
      "Random vector from the subspace: [5  4  4  6  2]\n",
      "--------------------------------------------------\n",
      "------------------- Test 4 -----------------------\n",
      "v: [4  4  4  3  3]\n",
      "Minimal distance subspace: \n",
      "[[4  0  6  3  3], [4  3  4  3  5], [4  4  1  3  1], [4  4  4  4  5], [4  4  6 \n",
      " 0  3]]\n",
      "Random vector from the subspace: [4  4  1  3  1]\n",
      "--------------------------------------------------\n",
      "------------------- Test 5 -----------------------\n",
      "v: [4  2  4  0  5]\n",
      "Minimal distance subspace: \n",
      "[[2  2  3  0  5], [3  2  4  0  1], [4  1  4  1  5], [4  2  5  0  4], [4  3  4 \n",
      " 3  5], [4  4  4  4  5], [4  5  4  5  5], [4  6  4  6  5]]\n",
      "Random vector from the subspace: [4  1  4  1  5]\n",
      "--------------------------------------------------\n"
     ]
    }
   ],
   "source": [
    "# Test the algorithm\n",
    "def test(n):\n",
    "    print(\"For the clarity of the output, we will display the vectors as transposed.\")\n",
    "    for i in range(n):\n",
    "        v = generate_random_vector()\n",
    "        print(f\"------------------- Test {i + 1} -----------------------\")\n",
    "        print(\"v: \", end=\"\")\n",
    "        pprint(v.transpose())\n",
    "        print(\"Minimal distance subspace: \")\n",
    "        pprint([x.transpose() for x in generate_minimal_distance_subspace(v, G)])\n",
    "        print(\"Random vector from the subspace: \", end=\"\")\n",
    "        pprint(minimize_hamming_distance(v, G).transpose())\n",
    "        print(\"--------------------------------------------------\")\n",
    "    pass\n",
    "\n",
    "test(5)\n"
   ]
  },
  {
   "cell_type": "code",
   "execution_count": 48,
   "metadata": {},
   "outputs": [
    {
     "data": {
      "text/plain": [
       "array([[1, 0, 0],\n",
       "       [0, 1, 0],\n",
       "       [0, 0, 1],\n",
       "       [2, 1, 5],\n",
       "       [4, 0, 6]])"
      ]
     },
     "execution_count": 48,
     "metadata": {},
     "output_type": "execute_result"
    }
   ],
   "source": [
    "np.array(G.T).astype(int)\n"
   ]
  },
  {
   "cell_type": "code",
   "execution_count": null,
   "metadata": {},
   "outputs": [],
   "source": [
    "GF.()"
   ]
  },
  {
   "cell_type": "code",
   "execution_count": 45,
   "metadata": {},
   "outputs": [
    {
     "data": {
      "text/plain": [
       "GF([[0],\n",
       "    [2],\n",
       "    [5],\n",
       "    [4]], order=7)"
      ]
     },
     "execution_count": 45,
     "metadata": {},
     "output_type": "execute_result"
    }
   ],
   "source": [
    "import numpy as np\n",
    "import galois\n",
    "\n",
    "\n",
    "\n",
    "GF = galois.GF(7)  # Create a Galois field with 7 elements\n",
    "A = GF.Random((4, 4))  # Create a random 4x4 matrix over GF(7)\n",
    "b = GF.Random((4, 1))  # Create a random 4x1 vector over GF(7)\n",
    "x = np.linalg.solve(A, b)  # Solve the equation Ax = b for x over GF(7)\n",
    "x"
   ]
  },
  {
   "cell_type": "code",
   "execution_count": 62,
   "metadata": {},
   "outputs": [
    {
     "ename": "NonInvertibleMatrixError",
     "evalue": "Matrix det == 0; not invertible.",
     "output_type": "error",
     "traceback": [
      "\u001b[1;31m---------------------------------------------------------------------------\u001b[0m",
      "\u001b[1;31mValueError\u001b[0m                                Traceback (most recent call last)",
      "File \u001b[1;32mc:\\Users\\Admin\\anaconda3\\lib\\site-packages\\sympy\\matrices\\solvers.py:751\u001b[0m, in \u001b[0;36m_solve\u001b[1;34m(M, rhs, method)\u001b[0m\n\u001b[0;32m    750\u001b[0m \u001b[39mtry\u001b[39;00m:\n\u001b[1;32m--> 751\u001b[0m     soln, param \u001b[39m=\u001b[39m M\u001b[39m.\u001b[39;49mgauss_jordan_solve(rhs)\n\u001b[0;32m    753\u001b[0m     \u001b[39mif\u001b[39;00m param:\n",
      "File \u001b[1;32mc:\\Users\\Admin\\anaconda3\\lib\\site-packages\\sympy\\matrices\\matrices.py:2180\u001b[0m, in \u001b[0;36mMatrixBase.gauss_jordan_solve\u001b[1;34m(self, B, freevar)\u001b[0m\n\u001b[0;32m   2179\u001b[0m \u001b[39mdef\u001b[39;00m \u001b[39mgauss_jordan_solve\u001b[39m(\u001b[39mself\u001b[39m, B, freevar\u001b[39m=\u001b[39m\u001b[39mFalse\u001b[39;00m):\n\u001b[1;32m-> 2180\u001b[0m     \u001b[39mreturn\u001b[39;00m _gauss_jordan_solve(\u001b[39mself\u001b[39;49m, B, freevar\u001b[39m=\u001b[39;49mfreevar)\n",
      "File \u001b[1;32mc:\\Users\\Admin\\anaconda3\\lib\\site-packages\\sympy\\matrices\\solvers.py:580\u001b[0m, in \u001b[0;36m_gauss_jordan_solve\u001b[1;34m(M, B, freevar)\u001b[0m\n\u001b[0;32m    579\u001b[0m \u001b[39mif\u001b[39;00m \u001b[39mnot\u001b[39;00m v[rank:, :]\u001b[39m.\u001b[39mis_zero_matrix:\n\u001b[1;32m--> 580\u001b[0m     \u001b[39mraise\u001b[39;00m \u001b[39mValueError\u001b[39;00m(\u001b[39m\"\u001b[39m\u001b[39mLinear system has no solution\u001b[39m\u001b[39m\"\u001b[39m)\n\u001b[0;32m    582\u001b[0m \u001b[39m# Free parameters\u001b[39;00m\n\u001b[0;32m    583\u001b[0m \u001b[39m# what are current unnumbered free symbol names?\u001b[39;00m\n",
      "\u001b[1;31mValueError\u001b[0m: Linear system has no solution",
      "\nDuring handling of the above exception, another exception occurred:\n",
      "\u001b[1;31mNonInvertibleMatrixError\u001b[0m                  Traceback (most recent call last)",
      "Cell \u001b[1;32mIn[62], line 6\u001b[0m\n\u001b[0;32m      3\u001b[0m v \u001b[39m=\u001b[39m GF7(np\u001b[39m.\u001b[39marray(choose_random_vector(generate_minimal_distance_subspace(generate_random_vector(), G)))\u001b[39m.\u001b[39mastype(\u001b[39mint\u001b[39m))\n\u001b[0;32m      4\u001b[0m B \u001b[39m=\u001b[39m GF7(np\u001b[39m.\u001b[39marray(G\u001b[39m.\u001b[39mT)\u001b[39m.\u001b[39mastype(\u001b[39mint\u001b[39m))\n\u001b[1;32m----> 6\u001b[0m Matrix(B)\u001b[39m.\u001b[39;49msolve(Matrix(v))\n",
      "File \u001b[1;32mc:\\Users\\Admin\\anaconda3\\lib\\site-packages\\sympy\\matrices\\matrices.py:2186\u001b[0m, in \u001b[0;36mMatrixBase.solve\u001b[1;34m(self, rhs, method)\u001b[0m\n\u001b[0;32m   2185\u001b[0m \u001b[39mdef\u001b[39;00m \u001b[39msolve\u001b[39m(\u001b[39mself\u001b[39m, rhs, method\u001b[39m=\u001b[39m\u001b[39m'\u001b[39m\u001b[39mGJ\u001b[39m\u001b[39m'\u001b[39m):\n\u001b[1;32m-> 2186\u001b[0m     \u001b[39mreturn\u001b[39;00m _solve(\u001b[39mself\u001b[39;49m, rhs, method\u001b[39m=\u001b[39;49mmethod)\n",
      "File \u001b[1;32mc:\\Users\\Admin\\anaconda3\\lib\\site-packages\\sympy\\matrices\\solvers.py:758\u001b[0m, in \u001b[0;36m_solve\u001b[1;34m(M, rhs, method)\u001b[0m\n\u001b[0;32m    754\u001b[0m             \u001b[39mraise\u001b[39;00m NonInvertibleMatrixError(\u001b[39m\"\u001b[39m\u001b[39mMatrix det == 0; not invertible. \u001b[39m\u001b[39m\"\u001b[39m\n\u001b[0;32m    755\u001b[0m             \u001b[39m\"\u001b[39m\u001b[39mTry ``M.gauss_jordan_solve(rhs)`` to obtain a parametric solution.\u001b[39m\u001b[39m\"\u001b[39m)\n\u001b[0;32m    757\u001b[0m     \u001b[39mexcept\u001b[39;00m \u001b[39mValueError\u001b[39;00m:\n\u001b[1;32m--> 758\u001b[0m         \u001b[39mraise\u001b[39;00m NonInvertibleMatrixError(\u001b[39m\"\u001b[39m\u001b[39mMatrix det == 0; not invertible.\u001b[39m\u001b[39m\"\u001b[39m)\n\u001b[0;32m    760\u001b[0m     \u001b[39mreturn\u001b[39;00m soln\n\u001b[0;32m    762\u001b[0m \u001b[39melif\u001b[39;00m method \u001b[39m==\u001b[39m \u001b[39m'\u001b[39m\u001b[39mLU\u001b[39m\u001b[39m'\u001b[39m:\n",
      "\u001b[1;31mNonInvertibleMatrixError\u001b[0m: Matrix det == 0; not invertible."
     ]
    }
   ],
   "source": [
    "GF7 = galois.GF(7)\n",
    "\n",
    "v = GF7(np.array(choose_random_vector(generate_minimal_distance_subspace(generate_random_vector(), G))).astype(int))\n",
    "B = GF7(np.array(G.T).astype(int))\n",
    "\n",
    "Matrix(B).solve(Matrix(v))\n"
   ]
  }
 ],
 "metadata": {
  "kernelspec": {
   "display_name": "base",
   "language": "python",
   "name": "python3"
  },
  "language_info": {
   "codemirror_mode": {
    "name": "ipython",
    "version": 3
   },
   "file_extension": ".py",
   "mimetype": "text/x-python",
   "name": "python",
   "nbconvert_exporter": "python",
   "pygments_lexer": "ipython3",
   "version": "3.9.16"
  },
  "orig_nbformat": 4
 },
 "nbformat": 4,
 "nbformat_minor": 2
}
