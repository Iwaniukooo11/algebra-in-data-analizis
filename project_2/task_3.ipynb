{
 "cells": [
  {
   "attachments": {},
   "cell_type": "markdown",
   "metadata": {},
   "source": [
    "# Zadanie 3 | Task 3\n",
    "\n",
    "**[PL]**\n",
    "W wybranym języku utwórz macierz generujacą G dla kodu liniowego C i bazy kodu B z zadanka 6. Następnie utwórz dowolnie wybrany przez siebie wektor v ∈ Z5 mod 7 i wykonaj dekodowanie tego wektora używajac algorytmu MinimizeHammingDistance dla kodu C i bazy B.\n",
    "\n",
    "**[EN]**\n",
    "In the language of your choice, create a generating matrix G for the linear code C and code base B from task 6. Then create an arbitrary vector v ∈ Z5 mod 7 and perform decoding of this vector using the MinimizeHammingDistance algorithm for code C and code base B."
   ]
  },
  {
   "cell_type": "code",
   "execution_count": 1,
   "metadata": {},
   "outputs": [],
   "source": [
    "import sympy as sp\n",
    "from sympy import Matrix, pprint\n",
    "import random\n",
    "from scipy.spatial.distance import hamming\n",
    "import itertools"
   ]
  },
  {
   "cell_type": "code",
   "execution_count": 2,
   "metadata": {},
   "outputs": [],
   "source": [
    "#Customize scipy's hamming distance function\n",
    "def hamming_distance(a, b):\n",
    "    if not (isinstance(a, list) and isinstance(b, list)):\n",
    "        return int(hamming(list(a), list(b)) * len(a))\n",
    "    return int(hamming(a, b) * len(a))\n"
   ]
  },
  {
   "cell_type": "code",
   "execution_count": 3,
   "metadata": {},
   "outputs": [
    {
     "name": "stdout",
     "output_type": "stream",
     "text": [
      "⎡1  0  0  2  4⎤\n",
      "⎢             ⎥\n",
      "⎢0  1  0  1  0⎥\n",
      "⎢             ⎥\n",
      "⎣0  0  1  5  6⎦\n"
     ]
    }
   ],
   "source": [
    "e1 = Matrix([1, 0, 0, 2, 4])\n",
    "e2 = Matrix([0, 1, 0, 1, 0])\n",
    "e3 = Matrix([0, 0, 1, 5, 6])\n",
    "\n",
    "G = Matrix([e1.transpose(), e2.transpose(), e3.transpose()])\n",
    "pprint(G)"
   ]
  },
  {
   "cell_type": "code",
   "execution_count": 4,
   "metadata": {},
   "outputs": [],
   "source": [
    "# Generate a random vector from the space Z^5 modulo 7\n",
    "def generate_random_vector():\n",
    "    return Matrix([random.randint(0, 6) for i in range(5)])\n",
    "\n",
    "# Find the minimal hamming distance\n",
    "def find_minimal_distance(v: Matrix, G: Matrix):\n",
    "    min_distance = len(v)\n",
    "    for x in itertools.product(range(7), repeat=3):\n",
    "        vector = (Matrix(x).T * G).T % 7\n",
    "        distance = hamming_distance(v, vector)\n",
    "        if distance < min_distance:\n",
    "            min_distance = distance\n",
    "    return min_distance\n",
    "\n",
    "# Generate the minimal distance subspace for vector v from Z^5 modulo 7 and generative matrix G\n",
    "def generate_minimal_distance_subspace(v: Matrix, G: Matrix):\n",
    "    min_distance = find_minimal_distance(v, G)\n",
    "    subspace = []\n",
    "    for x in itertools.product(range(7), repeat=3):\n",
    "        vector = (Matrix(x).T * G).T % 7\n",
    "        if hamming_distance(v, vector) == min_distance and vector not in subspace:\n",
    "            subspace.append(vector)\n",
    "    return subspace\n",
    "\n",
    "# Choose random vector from the space\n",
    "def choose_random_vector(S: list):\n",
    "    return S[random.randint(0, len(S) - 1)]\n",
    "\n",
    "# Find coords\n",
    "def find_coords(B: Matrix, modulus: int, v):\n",
    "    code_words = []\n",
    "    for x in itertools.product(range(modulus), repeat=B.shape[1]):\n",
    "        code_word = (B * Matrix(x)) % modulus\n",
    "        if code_word == v:\n",
    "            return x\n",
    "\n",
    "# Implement the minimize hamming distance algorithm\n",
    "def minimize_hamming_distance(v: Matrix, G: Matrix):\n",
    "    w = choose_random_vector(generate_minimal_distance_subspace(v, G))\n",
    "    r = find_coords(G.T, 7, w)\n",
    "    return Matrix(list(r))"
   ]
  },
  {
   "cell_type": "code",
   "execution_count": 6,
   "metadata": {},
   "outputs": [
    {
     "name": "stdout",
     "output_type": "stream",
     "text": [
      "For the clarity of the output, we will display the vectors as transposed.\n",
      "------------------- Test 1 -----------------------\n",
      "v: [3  6  2  0  4]\n",
      "Minimal distance subspace: \n",
      "[[0  6  3  0  4], [3  3  1  0  4], [3  5  2  0  3], [3  6  1  3  4], [3  6  2 \n",
      " 1  3], [3  6  6  0  6], [5  1  2  0  4], [5  6  2  5  4], [6  6  2  0  1]]\n",
      "Coordinates of random vector from the subspace: [0  6  3]\n",
      "--------------------------------------------------\n",
      "------------------- Test 2 -----------------------\n",
      "v: [5  2  0  0  3]\n",
      "Minimal distance subspace: \n",
      "[[6  2  0  0  3]]\n",
      "Coordinates of random vector from the subspace: [6  2  0]\n",
      "--------------------------------------------------\n",
      "------------------- Test 3 -----------------------\n",
      "v: [5  6  2  2  5]\n",
      "Minimal distance subspace: \n",
      "[[0  6  2  2  5]]\n",
      "Coordinates of random vector from the subspace: [0  6  2]\n",
      "--------------------------------------------------\n",
      "------------------- Test 4 -----------------------\n",
      "v: [5  0  5  5  6]\n",
      "Minimal distance subspace: \n",
      "[[0  0  1  5  6], [1  0  5  6  6], [1  6  5  5  6], [4  0  5  5  4], [5  0  0 \n",
      " 3  6], [5  0  5  0  1], [5  0  6  5  0], [5  2  0  5  6], [5  5  5  5  1]]\n",
      "Coordinates of random vector from the subspace: [5  0  6]\n",
      "--------------------------------------------------\n",
      "------------------- Test 5 -----------------------\n",
      "v: [2  3  2  5  6]\n",
      "Minimal distance subspace: \n",
      "[[2  3  2  3  6], [2  5  2  5  6]]\n",
      "Coordinates of random vector from the subspace: [2  3  2]\n",
      "--------------------------------------------------\n",
      "------------------- Test 6 -----------------------\n",
      "v: [0  6  4  3  2]\n",
      "Minimal distance subspace: \n",
      "[[0  6  5  3  2]]\n",
      "Coordinates of random vector from the subspace: [0  6  5]\n",
      "--------------------------------------------------\n",
      "------------------- Test 7 -----------------------\n",
      "v: [2  5  2  4  2]\n",
      "Minimal distance subspace: \n",
      "[[2  5  6  4  2]]\n",
      "Coordinates of random vector from the subspace: [2  5  6]\n",
      "--------------------------------------------------\n",
      "------------------- Test 8 -----------------------\n",
      "v: [6  2  5  3  5]\n",
      "Minimal distance subspace: \n",
      "[[6  1  5  3  5], [6  2  5  4  5]]\n",
      "Coordinates of random vector from the subspace: [6  2  5]\n",
      "--------------------------------------------------\n",
      "------------------- Test 9 -----------------------\n",
      "v: [5  3  5  5  6]\n",
      "Minimal distance subspace: \n",
      "[[1  3  5  2  6], [1  6  5  5  6], [4  3  3  5  6], [5  2  0  5  6], [5  3  0 \n",
      " 6  6], [5  3  4  5  2], [5  3  5  3  1], [5  5  5  5  1], [6  3  5  5  5]]\n",
      "Coordinates of random vector from the subspace: [1  6  5]\n",
      "--------------------------------------------------\n",
      "------------------- Test 10 -----------------------\n",
      "v: [1  2  3  3  0]\n",
      "Minimal distance subspace: \n",
      "[[1  2  4  3  0]]\n",
      "Coordinates of random vector from the subspace: [1  2  4]\n",
      "--------------------------------------------------\n"
     ]
    }
   ],
   "source": [
    "# Test the algorithm\n",
    "def test(n):\n",
    "    print(\"For the clarity of the output, we will display the vectors as transposed.\")\n",
    "    for i in range(n):\n",
    "        v = generate_random_vector()\n",
    "        print(f\"------------------- Test {i + 1} -----------------------\")\n",
    "        print(\"v: \", end=\"\")\n",
    "        pprint(v.transpose())\n",
    "        print(\"Minimal distance subspace: \")\n",
    "        pprint([x.transpose() for x in generate_minimal_distance_subspace(v, G)])\n",
    "        print(\"Coordinates of random vector from the subspace: \", end=\"\")\n",
    "        pprint(minimize_hamming_distance(v, G).transpose())\n",
    "        print(\"--------------------------------------------------\")\n",
    "    pass\n",
    "\n",
    "test(10)"
   ]
  }
 ],
 "metadata": {
  "kernelspec": {
   "display_name": "base",
   "language": "python",
   "name": "python3"
  },
  "language_info": {
   "codemirror_mode": {
    "name": "ipython",
    "version": 3
   },
   "file_extension": ".py",
   "mimetype": "text/x-python",
   "name": "python",
   "nbconvert_exporter": "python",
   "pygments_lexer": "ipython3",
   "version": "3.10.11"
  },
  "orig_nbformat": 4
 },
 "nbformat": 4,
 "nbformat_minor": 2
}
