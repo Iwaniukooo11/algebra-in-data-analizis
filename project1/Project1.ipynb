{
  "nbformat": 4,
  "nbformat_minor": 0,
  "metadata": {
    "colab": {
      "provenance": []
    },
    "kernelspec": {
      "name": "python3",
      "display_name": "Python 3"
    },
    "language_info": {
      "name": "python"
    },
    "accelerator": "TPU",
    "gpuClass": "standard"
  },
  "cells": [
    {
      "cell_type": "markdown",
      "source": [
        "\n",
        "# [PL] Projekt #1 Algebra w analizie danych \n",
        "\n",
        "\n",
        "Rozwiązanie zadań na pierwszy projekt z przedmiotu **,,Algebra w analizie danych\"**    \n",
        "\n",
        "**Kierunek**: Inżynieria i analiza danych  \n",
        "**Wydział:** Matematyki i Nauk Informacyjnych, Politechnika Warszawska\n",
        "\n",
        "**Słowa kluczowe** : \n",
        " * Macierze i klatki Jordana\n",
        " * Wartości własne \n",
        " * Wymiar jądra \n",
        " * Szybkie potęgowanie \n",
        " * Macierze podobne \n",
        "\n",
        "\n",
        "**Prowadzący:**  \n",
        "* Dr inż. Michał Zwierzyński\n",
        "\n",
        "**Twórcy:**\n",
        "- Igor Kołodziej\n",
        "- Mateusz Iwaniuk\n",
        "\n",
        "\n",
        "**Technologie**:\n",
        " - Python & SymPy\n",
        " - Jupyter Notebook\n",
        "\n",
        " ---\n",
        " # [EN] Project No.1 Algebra in data analysis \n",
        "\n",
        "\n",
        "Soloutions of problems prepared for 1st project from **,,Algebra in Data Analysis\"** subject\n",
        "\n",
        "**Field of study**: Data Science  \n",
        "**Faculty**: Mathematic and Information Sciences, Warsaw University of Technology\n",
        "\n",
        "**Keywords :**  \n",
        "* Jordan matrices and frames.\n",
        "* Eigenvalues. \n",
        "* Kernel dimension. \n",
        "* Quick power up. \n",
        "* Similar matrices\n",
        "\n",
        "\n",
        "**Professor**: \n",
        "* PhD Michał Zwierzyński\n",
        "\n",
        "**Students**: \n",
        "- Igor Kołodziej\n",
        "- Mateusz Iwaniuk\n",
        "\n",
        "\n",
        "**Technology**:\n",
        " - Python & SymPy\n",
        " - Jupyter Notebook\n",
        "\n",
        "\n",
        "\n",
        "\n"
      ],
      "metadata": {
        "id": "aBrX2yuSG4mt"
      }
    },
    {
      "cell_type": "code",
      "source": [
        "import sympy as sp\n",
        "from sympy import *\n",
        "from sympy import Matrix\n",
        "from sympy import Symbol, symbols\n",
        "from sympy.abc import x\n",
        "from sympy import printing\n",
        "init_printing(use_unicode=True)"
      ],
      "metadata": {
        "id": "tpDaF11kcBTu"
      },
      "execution_count": 27,
      "outputs": []
    },
    {
      "cell_type": "markdown",
      "source": [
        "# Zadanko 1 | Task 1"
      ],
      "metadata": {
        "id": "-CdiTSC2Gtyn"
      }
    },
    {
      "cell_type": "markdown",
      "source": [
        "**[PL]** Oblicz kilka poczatkowych potęg macierzy A oraz wywnioskuj wzór na n-tą potęgę klatki Jordana 4 × 4, który wykorzystuje symbol Newtona\n",
        "\n",
        "**[EN]** \n",
        "Calculate the several powers of the matrix A and deduce the formula for the nth power of the 4 × 4 Jordan frame, which uses the Newton symbol"
      ],
      "metadata": {
        "id": "tD2WZHDywry5"
      }
    },
    {
      "cell_type": "code",
      "source": [
        "A = sp.jordan_cell(Symbol('lambda'), 4)\n",
        "A"
      ],
      "metadata": {
        "colab": {
          "base_uri": "https://localhost:8080/",
          "height": 99
        },
        "id": "o73c08r5ZOns",
        "outputId": "2d74f61f-e596-4216-d5ab-4a7695b3c609"
      },
      "execution_count": 28,
      "outputs": [
        {
          "output_type": "execute_result",
          "data": {
            "text/plain": [
              "⎡λ  1  0  0⎤\n",
              "⎢          ⎥\n",
              "⎢0  λ  1  0⎥\n",
              "⎢          ⎥\n",
              "⎢0  0  λ  1⎥\n",
              "⎢          ⎥\n",
              "⎣0  0  0  λ⎦"
            ],
            "text/latex": "$\\displaystyle \\left[\\begin{matrix}\\lambda & 1 & 0 & 0\\\\0 & \\lambda & 1 & 0\\\\0 & 0 & \\lambda & 1\\\\0 & 0 & 0 & \\lambda\\end{matrix}\\right]$"
          },
          "metadata": {},
          "execution_count": 28
        }
      ]
    },
    {
      "cell_type": "code",
      "source": [
        "displayList = []\n",
        "for i in range(1, 8):\n",
        "  displayList.append(A**i)\n",
        "\n",
        "displayList"
      ],
      "metadata": {
        "colab": {
          "base_uri": "https://localhost:8080/",
          "height": 99
        },
        "id": "4gEa5icTZrUS",
        "outputId": "d462ca98-c552-4dd8-e771-2b37bb2e28ac"
      },
      "execution_count": 29,
      "outputs": [
        {
          "output_type": "execute_result",
          "data": {
            "text/plain": [
              "⎡              ⎡ 2               ⎤  ⎡ 3     2            ⎤  ⎡ 4     3     2   \n",
              "⎢              ⎢λ   2⋅λ   1    0 ⎥  ⎢λ   3⋅λ   3⋅λ    1  ⎥  ⎢λ   4⋅λ   6⋅λ   4\n",
              "⎢⎡λ  1  0  0⎤  ⎢                 ⎥  ⎢                    ⎥  ⎢                 \n",
              "⎢⎢          ⎥  ⎢     2           ⎥  ⎢      3      2      ⎥  ⎢      4      3   \n",
              "⎢⎢0  λ  1  0⎥  ⎢0   λ    2⋅λ   1 ⎥  ⎢0    λ    3⋅λ   3⋅λ ⎥  ⎢0    λ    4⋅λ   6\n",
              "⎢⎢          ⎥, ⎢                 ⎥, ⎢                    ⎥, ⎢                 \n",
              "⎢⎢0  0  λ  1⎥  ⎢          2      ⎥  ⎢            3      2⎥  ⎢            4    \n",
              "⎢⎢          ⎥  ⎢0    0   λ    2⋅λ⎥  ⎢0    0     λ    3⋅λ ⎥  ⎢0    0     λ    4\n",
              "⎢⎣0  0  0  λ⎦  ⎢                 ⎥  ⎢                    ⎥  ⎢                 \n",
              "⎢              ⎢               2 ⎥  ⎢                  3 ⎥  ⎢                 \n",
              "⎣              ⎣0    0    0   λ  ⎦  ⎣0    0     0     λ  ⎦  ⎣0    0     0     \n",
              "\n",
              "   ⎤  ⎡ 5     4      3      2⎤  ⎡ 6     5      4      3⎤  ⎡ 7     6      5    \n",
              "⋅λ ⎥  ⎢λ   5⋅λ   10⋅λ   10⋅λ ⎥  ⎢λ   6⋅λ   15⋅λ   20⋅λ ⎥  ⎢λ   7⋅λ   21⋅λ   35\n",
              "   ⎥  ⎢                      ⎥  ⎢                      ⎥  ⎢                   \n",
              "  2⎥  ⎢      5      4       3⎥  ⎢      6      5       4⎥  ⎢      7      6     \n",
              "⋅λ ⎥  ⎢0    λ    5⋅λ    10⋅λ ⎥  ⎢0    λ    6⋅λ    15⋅λ ⎥  ⎢0    λ    7⋅λ    21\n",
              "   ⎥, ⎢                      ⎥, ⎢                      ⎥, ⎢                   \n",
              "  3⎥  ⎢            5       4 ⎥  ⎢            6       5 ⎥  ⎢            7      \n",
              "⋅λ ⎥  ⎢0    0     λ     5⋅λ  ⎥  ⎢0    0     λ     6⋅λ  ⎥  ⎢0    0     λ     7⋅\n",
              "   ⎥  ⎢                      ⎥  ⎢                      ⎥  ⎢                   \n",
              " 4 ⎥  ⎢                   5  ⎥  ⎢                   6  ⎥  ⎢                   \n",
              "λ  ⎦  ⎣0    0      0     λ   ⎦  ⎣0    0      0     λ   ⎦  ⎣0    0      0     λ\n",
              "\n",
              "  4⎤⎤\n",
              "⋅λ ⎥⎥\n",
              "   ⎥⎥\n",
              "  5⎥⎥\n",
              "⋅λ ⎥⎥\n",
              "   ⎥⎥\n",
              " 6 ⎥⎥\n",
              "λ  ⎥⎥\n",
              "   ⎥⎥\n",
              "7  ⎥⎥\n",
              "   ⎦⎦"
            ],
            "text/latex": "$\\displaystyle \\left[ \\left[\\begin{matrix}\\lambda & 1 & 0 & 0\\\\0 & \\lambda & 1 & 0\\\\0 & 0 & \\lambda & 1\\\\0 & 0 & 0 & \\lambda\\end{matrix}\\right], \\  \\left[\\begin{matrix}\\lambda^{2} & 2 \\lambda & 1 & 0\\\\0 & \\lambda^{2} & 2 \\lambda & 1\\\\0 & 0 & \\lambda^{2} & 2 \\lambda\\\\0 & 0 & 0 & \\lambda^{2}\\end{matrix}\\right], \\  \\left[\\begin{matrix}\\lambda^{3} & 3 \\lambda^{2} & 3 \\lambda & 1\\\\0 & \\lambda^{3} & 3 \\lambda^{2} & 3 \\lambda\\\\0 & 0 & \\lambda^{3} & 3 \\lambda^{2}\\\\0 & 0 & 0 & \\lambda^{3}\\end{matrix}\\right], \\  \\left[\\begin{matrix}\\lambda^{4} & 4 \\lambda^{3} & 6 \\lambda^{2} & 4 \\lambda\\\\0 & \\lambda^{4} & 4 \\lambda^{3} & 6 \\lambda^{2}\\\\0 & 0 & \\lambda^{4} & 4 \\lambda^{3}\\\\0 & 0 & 0 & \\lambda^{4}\\end{matrix}\\right], \\  \\left[\\begin{matrix}\\lambda^{5} & 5 \\lambda^{4} & 10 \\lambda^{3} & 10 \\lambda^{2}\\\\0 & \\lambda^{5} & 5 \\lambda^{4} & 10 \\lambda^{3}\\\\0 & 0 & \\lambda^{5} & 5 \\lambda^{4}\\\\0 & 0 & 0 & \\lambda^{5}\\end{matrix}\\right], \\  \\left[\\begin{matrix}\\lambda^{6} & 6 \\lambda^{5} & 15 \\lambda^{4} & 20 \\lambda^{3}\\\\0 & \\lambda^{6} & 6 \\lambda^{5} & 15 \\lambda^{4}\\\\0 & 0 & \\lambda^{6} & 6 \\lambda^{5}\\\\0 & 0 & 0 & \\lambda^{6}\\end{matrix}\\right], \\  \\left[\\begin{matrix}\\lambda^{7} & 7 \\lambda^{6} & 21 \\lambda^{5} & 35 \\lambda^{4}\\\\0 & \\lambda^{7} & 7 \\lambda^{6} & 21 \\lambda^{5}\\\\0 & 0 & \\lambda^{7} & 7 \\lambda^{6}\\\\0 & 0 & 0 & \\lambda^{7}\\end{matrix}\\right]\\right]$"
          },
          "metadata": {},
          "execution_count": 29
        }
      ]
    },
    {
      "cell_type": "code",
      "source": [
        "displayList = []\n",
        "X = A - Symbol('lambda')*sp.eye(4)\n",
        "for i in range(1, 7):\n",
        "  displayList.append(X**i)\n",
        "\n",
        "displayList"
      ],
      "metadata": {
        "colab": {
          "base_uri": "https://localhost:8080/",
          "height": 99
        },
        "id": "vs7eOMJQhg8a",
        "outputId": "45013426-96e4-43d6-bb22-4ae10640ae0b"
      },
      "execution_count": 30,
      "outputs": [
        {
          "output_type": "execute_result",
          "data": {
            "text/plain": [
              "⎡⎡0  1  0  0⎤  ⎡0  0  1  0⎤  ⎡0  0  0  1⎤  ⎡0  0  0  0⎤  ⎡0  0  0  0⎤  ⎡0  0  \n",
              "⎢⎢          ⎥  ⎢          ⎥  ⎢          ⎥  ⎢          ⎥  ⎢          ⎥  ⎢      \n",
              "⎢⎢0  0  1  0⎥  ⎢0  0  0  1⎥  ⎢0  0  0  0⎥  ⎢0  0  0  0⎥  ⎢0  0  0  0⎥  ⎢0  0  \n",
              "⎢⎢          ⎥, ⎢          ⎥, ⎢          ⎥, ⎢          ⎥, ⎢          ⎥, ⎢      \n",
              "⎢⎢0  0  0  1⎥  ⎢0  0  0  0⎥  ⎢0  0  0  0⎥  ⎢0  0  0  0⎥  ⎢0  0  0  0⎥  ⎢0  0  \n",
              "⎢⎢          ⎥  ⎢          ⎥  ⎢          ⎥  ⎢          ⎥  ⎢          ⎥  ⎢      \n",
              "⎣⎣0  0  0  0⎦  ⎣0  0  0  0⎦  ⎣0  0  0  0⎦  ⎣0  0  0  0⎦  ⎣0  0  0  0⎦  ⎣0  0  \n",
              "\n",
              "0  0⎤⎤\n",
              "    ⎥⎥\n",
              "0  0⎥⎥\n",
              "    ⎥⎥\n",
              "0  0⎥⎥\n",
              "    ⎥⎥\n",
              "0  0⎦⎦"
            ],
            "text/latex": "$\\displaystyle \\left[ \\left[\\begin{matrix}0 & 1 & 0 & 0\\\\0 & 0 & 1 & 0\\\\0 & 0 & 0 & 1\\\\0 & 0 & 0 & 0\\end{matrix}\\right], \\  \\left[\\begin{matrix}0 & 0 & 1 & 0\\\\0 & 0 & 0 & 1\\\\0 & 0 & 0 & 0\\\\0 & 0 & 0 & 0\\end{matrix}\\right], \\  \\left[\\begin{matrix}0 & 0 & 0 & 1\\\\0 & 0 & 0 & 0\\\\0 & 0 & 0 & 0\\\\0 & 0 & 0 & 0\\end{matrix}\\right], \\  \\left[\\begin{matrix}0 & 0 & 0 & 0\\\\0 & 0 & 0 & 0\\\\0 & 0 & 0 & 0\\\\0 & 0 & 0 & 0\\end{matrix}\\right], \\  \\left[\\begin{matrix}0 & 0 & 0 & 0\\\\0 & 0 & 0 & 0\\\\0 & 0 & 0 & 0\\\\0 & 0 & 0 & 0\\end{matrix}\\right], \\  \\left[\\begin{matrix}0 & 0 & 0 & 0\\\\0 & 0 & 0 & 0\\\\0 & 0 & 0 & 0\\\\0 & 0 & 0 & 0\\end{matrix}\\right]\\right]$"
          },
          "metadata": {},
          "execution_count": 30
        }
      ]
    },
    {
      "cell_type": "markdown",
      "source": [
        "# Zadanko 2 | Task 2"
      ],
      "metadata": {
        "id": "KeBXDzomHESd"
      }
    },
    {
      "cell_type": "markdown",
      "source": [
        "## Podpunkt a | Subpoint a\n",
        "\n",
        "**[PL]** Zweryfikuj, że każda macierz z zadania ma ten sam wielomian charakterystyczny, którego jedynym pierwiastkiem jest pewna liczba λ\n",
        "\n",
        "**[EN]**\n",
        "Verify that each matrix from the task has the same characteristic polynomial, whose only element is a certain number λ"
      ],
      "metadata": {
        "id": "F_5oqYVqAkE9"
      }
    },
    {
      "cell_type": "code",
      "source": [
        "a = [[4, -1, -3, 5, -2], [-5, -1, 1, -4, 4], [8, -1, -4, 6, -5], [1, 0, 0, -1, -1], [5, -1, -3, 5, -3]]\n",
        "b = [[-1, 0, -1, 1, 1], [-5, -1, 1, -4, 4], [3, 0, -2, 2, -2], [1, 0, 0, -1, -1], [0, 0, -1, 1, 0]]\n",
        "c = [[-9, 1, 2, -5, 6], [-2, -1, 0, -2, 2], [-5, 1, 1, -4, 3], [1, 0, 0, -1, -1], [-8, 1, 2, -5, 5]]\n",
        "d = [[-4, 0, 0, -1, 3], [-2, -1, 0, -2, 2], [0, 0, -1, 0, 0], [1, 0, 0, -1, -1], [-3, 0, 0, -1, 2]]\n",
        "e = [[0, 0, -1, 2, 0], [-3, -1, 1, -2, 2], [3, 0, -2, 2, -2], [1, 0, 0, -1, -1], [1, 0, -1, 2, -1]]\n",
        "f = [[2, 0, -1, 2, -2], [-3, -1, 1, -2, 2], [3, 0, -2, 2, -2], [0, 0, 0, -1, 0], [3, 0, -1, 2, -3]]\n",
        "g = [[-1, 0, 0, 0, 0], [0, -1, 0, 0, 0], [0, 0, -1, 0, 0], [0, 0, 0, -1, 0], [0, 0, 0, 0, -1]]"
      ],
      "metadata": {
        "id": "37YdLrZkhAB4"
      },
      "execution_count": 31,
      "outputs": []
    },
    {
      "cell_type": "code",
      "source": [
        "input_matrices = [a, b, c, d, e, f, g]\n",
        "matrices = []\n",
        "\n",
        "for matrix in input_matrices:\n",
        "  matrix = Matrix(matrix)\n",
        "  matrices.append(matrix)"
      ],
      "metadata": {
        "id": "ezZsGpjuhiu0"
      },
      "execution_count": 32,
      "outputs": []
    },
    {
      "cell_type": "code",
      "source": [
        "letters = ['A','B','C','D','E','F','G']\n",
        "\n",
        "for i, matrix in enumerate(matrices):\n",
        "  print(f'Characteristic polynomial of matrix {letters[i]}:')\n",
        "  pprint(matrix.charpoly().as_expr())\n",
        "  print()"
      ],
      "metadata": {
        "colab": {
          "base_uri": "https://localhost:8080/",
          "height": 0
        },
        "id": "QFET7fvmhufg",
        "outputId": "12494167-9ae7-4819-c19f-bd589b4fdc22"
      },
      "execution_count": 33,
      "outputs": [
        {
          "output_type": "stream",
          "name": "stdout",
          "text": [
            "Characteristic polynomial of matrix A:\n",
            " 5      4       3       2          \n",
            "λ  + 5⋅λ  + 10⋅λ  + 10⋅λ  + 5⋅λ + 1\n",
            "\n",
            "Characteristic polynomial of matrix B:\n",
            " 5      4       3       2          \n",
            "λ  + 5⋅λ  + 10⋅λ  + 10⋅λ  + 5⋅λ + 1\n",
            "\n",
            "Characteristic polynomial of matrix C:\n",
            " 5      4       3       2          \n",
            "λ  + 5⋅λ  + 10⋅λ  + 10⋅λ  + 5⋅λ + 1\n",
            "\n",
            "Characteristic polynomial of matrix D:\n",
            " 5      4       3       2          \n",
            "λ  + 5⋅λ  + 10⋅λ  + 10⋅λ  + 5⋅λ + 1\n",
            "\n",
            "Characteristic polynomial of matrix E:\n",
            " 5      4       3       2          \n",
            "λ  + 5⋅λ  + 10⋅λ  + 10⋅λ  + 5⋅λ + 1\n",
            "\n",
            "Characteristic polynomial of matrix F:\n",
            " 5      4       3       2          \n",
            "λ  + 5⋅λ  + 10⋅λ  + 10⋅λ  + 5⋅λ + 1\n",
            "\n",
            "Characteristic polynomial of matrix G:\n",
            " 5      4       3       2          \n",
            "λ  + 5⋅λ  + 10⋅λ  + 10⋅λ  + 5⋅λ + 1\n",
            "\n"
          ]
        }
      ]
    },
    {
      "cell_type": "code",
      "source": [
        "# Checking if polynomials are equal\n",
        "def checkCharpoly(matrices):\n",
        "  for matrix1 in matrices:\n",
        "    for matrix2 in matrices:\n",
        "      if matrix1.charpoly() != matrix2.charpoly():\n",
        "        return False\n",
        "  return True\n",
        "\n",
        "checkCharpoly(matrices)"
      ],
      "metadata": {
        "colab": {
          "base_uri": "https://localhost:8080/",
          "height": 0
        },
        "id": "PYDicDA8RX5d",
        "outputId": "045c8676-7280-4a05-ab87-512838ad13c8"
      },
      "execution_count": 34,
      "outputs": [
        {
          "output_type": "execute_result",
          "data": {
            "text/plain": [
              "True"
            ]
          },
          "metadata": {},
          "execution_count": 34
        }
      ]
    },
    {
      "cell_type": "code",
      "source": [
        "M = matrices[0]\n",
        "eigenvalue = list(M.eigenvals().keys())[0]\n",
        "print(f'Eigenvalue: {eigenvalue}')"
      ],
      "metadata": {
        "colab": {
          "base_uri": "https://localhost:8080/",
          "height": 0
        },
        "id": "GFn7nVs01o0D",
        "outputId": "5ddbb941-2412-402a-96e7-b963d4ac8d59"
      },
      "execution_count": 35,
      "outputs": [
        {
          "output_type": "stream",
          "name": "stdout",
          "text": [
            "Eigenvalue: -1\n"
          ]
        }
      ]
    },
    {
      "cell_type": "markdown",
      "source": [
        "## Podpunkt b | Subpoint b\n",
        "\n",
        "**[PL]** Sprawdź do jakiej macierzy blokowej podobne są odpowiednie macierzy, w szczególności ile klatek Jordana ma\n",
        "dana macierz blokowa\n",
        "\n",
        "**[EN]** Check to which block matrix the corresponding matrices are similar, in particular how many Jordan frames have\n",
        "given block matrix\n"
      ],
      "metadata": {
        "id": "FdhJ-5hWA3L9"
      }
    },
    {
      "cell_type": "code",
      "source": [
        "for i,matrix in enumerate(matrices[:-2]):\n",
        "  displayList = []\n",
        "  print(f\"Matrix {letters[i]} and its Jordan form: \")\n",
        "  displayList.append(matrix)\n",
        "  P,J = Matrix.jordan_form(matrix)\n",
        "  displayList.append(J)\n",
        "  pprint(displayList)\n",
        "  print()\n"
      ],
      "metadata": {
        "colab": {
          "base_uri": "https://localhost:8080/",
          "height": 0
        },
        "id": "2yKr2dIYOSak",
        "outputId": "0501604e-fd8d-47c8-ef89-8815388a317b"
      },
      "execution_count": 36,
      "outputs": [
        {
          "output_type": "stream",
          "name": "stdout",
          "text": [
            "Matrix A and its Jordan form: \n",
            "⎡⎡4   -1  -3  5   -2⎤  ⎡-1  1   0   0   0 ⎤⎤\n",
            "⎢⎢                  ⎥  ⎢                  ⎥⎥\n",
            "⎢⎢-5  -1  1   -4  4 ⎥  ⎢0   -1  1   0   0 ⎥⎥\n",
            "⎢⎢                  ⎥  ⎢                  ⎥⎥\n",
            "⎢⎢8   -1  -4  6   -5⎥, ⎢0   0   -1  1   0 ⎥⎥\n",
            "⎢⎢                  ⎥  ⎢                  ⎥⎥\n",
            "⎢⎢1   0   0   -1  -1⎥  ⎢0   0   0   -1  1 ⎥⎥\n",
            "⎢⎢                  ⎥  ⎢                  ⎥⎥\n",
            "⎣⎣5   -1  -3  5   -3⎦  ⎣0   0   0   0   -1⎦⎦\n",
            "\n",
            "Matrix B and its Jordan form: \n",
            "⎡⎡-1  0   -1  1   1 ⎤  ⎡-1  1   0   0   0 ⎤⎤\n",
            "⎢⎢                  ⎥  ⎢                  ⎥⎥\n",
            "⎢⎢-5  -1  1   -4  4 ⎥  ⎢0   -1  1   0   0 ⎥⎥\n",
            "⎢⎢                  ⎥  ⎢                  ⎥⎥\n",
            "⎢⎢3   0   -2  2   -2⎥, ⎢0   0   -1  1   0 ⎥⎥\n",
            "⎢⎢                  ⎥  ⎢                  ⎥⎥\n",
            "⎢⎢1   0   0   -1  -1⎥  ⎢0   0   0   -1  0 ⎥⎥\n",
            "⎢⎢                  ⎥  ⎢                  ⎥⎥\n",
            "⎣⎣0   0   -1  1   0 ⎦  ⎣0   0   0   0   -1⎦⎦\n",
            "\n",
            "Matrix C and its Jordan form: \n",
            "⎡⎡-9  1   2  -5  6 ⎤  ⎡-1  1   0   0   0 ⎤⎤\n",
            "⎢⎢                 ⎥  ⎢                  ⎥⎥\n",
            "⎢⎢-2  -1  0  -2  2 ⎥  ⎢0   -1  1   0   0 ⎥⎥\n",
            "⎢⎢                 ⎥  ⎢                  ⎥⎥\n",
            "⎢⎢-5  1   1  -4  3 ⎥, ⎢0   0   -1  0   0 ⎥⎥\n",
            "⎢⎢                 ⎥  ⎢                  ⎥⎥\n",
            "⎢⎢1   0   0  -1  -1⎥  ⎢0   0   0   -1  1 ⎥⎥\n",
            "⎢⎢                 ⎥  ⎢                  ⎥⎥\n",
            "⎣⎣-8  1   2  -5  5 ⎦  ⎣0   0   0   0   -1⎦⎦\n",
            "\n",
            "Matrix D and its Jordan form: \n",
            "⎡⎡-4  0   0   -1  3 ⎤  ⎡-1  1   0   0   0 ⎤⎤\n",
            "⎢⎢                  ⎥  ⎢                  ⎥⎥\n",
            "⎢⎢-2  -1  0   -2  2 ⎥  ⎢0   -1  1   0   0 ⎥⎥\n",
            "⎢⎢                  ⎥  ⎢                  ⎥⎥\n",
            "⎢⎢0   0   -1  0   0 ⎥, ⎢0   0   -1  0   0 ⎥⎥\n",
            "⎢⎢                  ⎥  ⎢                  ⎥⎥\n",
            "⎢⎢1   0   0   -1  -1⎥  ⎢0   0   0   -1  0 ⎥⎥\n",
            "⎢⎢                  ⎥  ⎢                  ⎥⎥\n",
            "⎣⎣-3  0   0   -1  2 ⎦  ⎣0   0   0   0   -1⎦⎦\n",
            "\n",
            "Matrix E and its Jordan form: \n",
            "⎡⎡0   0   -1  2   0 ⎤  ⎡-1  1   0   0   0 ⎤⎤\n",
            "⎢⎢                  ⎥  ⎢                  ⎥⎥\n",
            "⎢⎢-3  -1  1   -2  2 ⎥  ⎢0   -1  0   0   0 ⎥⎥\n",
            "⎢⎢                  ⎥  ⎢                  ⎥⎥\n",
            "⎢⎢3   0   -2  2   -2⎥, ⎢0   0   -1  1   0 ⎥⎥\n",
            "⎢⎢                  ⎥  ⎢                  ⎥⎥\n",
            "⎢⎢1   0   0   -1  -1⎥  ⎢0   0   0   -1  0 ⎥⎥\n",
            "⎢⎢                  ⎥  ⎢                  ⎥⎥\n",
            "⎣⎣1   0   -1  2   -1⎦  ⎣0   0   0   0   -1⎦⎦\n",
            "\n"
          ]
        }
      ]
    },
    {
      "cell_type": "code",
      "source": [
        "for i,matrix in enumerate(matrices[5:7]):\n",
        "  displayList = []\n",
        "  print(f\"Matrix {letters[i+5]} and its Jordan form: \")\n",
        "  displayList.append(matrix)\n",
        "  P,J = Matrix.jordan_form(matrix)\n",
        "  displayList.append(J)\n",
        "  pprint(displayList)\n",
        "  print()"
      ],
      "metadata": {
        "colab": {
          "base_uri": "https://localhost:8080/",
          "height": 0
        },
        "id": "_Zp28e8CAt5t",
        "outputId": "2f5fcba2-8f47-42b2-94b6-d51f810cb994"
      },
      "execution_count": 37,
      "outputs": [
        {
          "output_type": "stream",
          "name": "stdout",
          "text": [
            "Matrix F and its Jordan form: \n",
            "⎡⎡2   0   -1  2   -2⎤  ⎡-1  1   0   0   0 ⎤⎤\n",
            "⎢⎢                  ⎥  ⎢                  ⎥⎥\n",
            "⎢⎢-3  -1  1   -2  2 ⎥  ⎢0   -1  0   0   0 ⎥⎥\n",
            "⎢⎢                  ⎥  ⎢                  ⎥⎥\n",
            "⎢⎢3   0   -2  2   -2⎥, ⎢0   0   -1  0   0 ⎥⎥\n",
            "⎢⎢                  ⎥  ⎢                  ⎥⎥\n",
            "⎢⎢0   0   0   -1  0 ⎥  ⎢0   0   0   -1  0 ⎥⎥\n",
            "⎢⎢                  ⎥  ⎢                  ⎥⎥\n",
            "⎣⎣3   0   -1  2   -3⎦  ⎣0   0   0   0   -1⎦⎦\n",
            "\n",
            "Matrix G and its Jordan form: \n",
            "⎡⎡-1  0   0   0   0 ⎤  ⎡-1  0   0   0   0 ⎤⎤\n",
            "⎢⎢                  ⎥  ⎢                  ⎥⎥\n",
            "⎢⎢0   -1  0   0   0 ⎥  ⎢0   -1  0   0   0 ⎥⎥\n",
            "⎢⎢                  ⎥  ⎢                  ⎥⎥\n",
            "⎢⎢0   0   -1  0   0 ⎥, ⎢0   0   -1  0   0 ⎥⎥\n",
            "⎢⎢                  ⎥  ⎢                  ⎥⎥\n",
            "⎢⎢0   0   0   -1  0 ⎥  ⎢0   0   0   -1  0 ⎥⎥\n",
            "⎢⎢                  ⎥  ⎢                  ⎥⎥\n",
            "⎣⎣0   0   0   0   -1⎦  ⎣0   0   0   0   -1⎦⎦\n",
            "\n"
          ]
        }
      ]
    },
    {
      "cell_type": "markdown",
      "source": [
        "*    Matrix a (1) | 1  5x5\n",
        "*    Matrix b (2) | 1  3x3, 1 2x2 \n",
        "*    Matrix c (2) | 1  3x3, 1 2x2\n",
        "*    Matrix d (3) | 1  3x3, 2 1x1\n",
        "*    Matrix e (3) | 2  2x2, 1 1x1\n",
        "*    Matrix f (4) | 1  2x2, 3 1x1\n",
        "*    Matrix g (5) | 5  1x1"
      ],
      "metadata": {
        "id": "8VNJl4TFnZ_G"
      }
    },
    {
      "cell_type": "markdown",
      "source": [
        "## Podpunkt c | Subpoint c\n",
        "\n",
        "**[PL]** Dla każdej macierzy X z zadania oblicz wymiar jądra przekształcenia X − λI\n",
        "\n",
        "**[EN]** For each matrix X from the task, compute the dimension of the X - λI transformation kernel"
      ],
      "metadata": {
        "id": "y9HPKHjqE5h7"
      }
    },
    {
      "cell_type": "code",
      "source": [
        "print(f'λ = {eigenvalue}')"
      ],
      "metadata": {
        "colab": {
          "base_uri": "https://localhost:8080/",
          "height": 0
        },
        "id": "M-YRlBxdcXos",
        "outputId": "e650af7a-9b39-418d-b464-f87edd9f96db"
      },
      "execution_count": 38,
      "outputs": [
        {
          "output_type": "stream",
          "name": "stdout",
          "text": [
            "λ = -1\n"
          ]
        }
      ]
    },
    {
      "cell_type": "code",
      "source": [
        "for i, X in enumerate(matrices):\n",
        "  A = X - eigenvalue * Matrix.eye(X.shape[0])\n",
        "  print(f'dim_ker({letters[i]} - λI) = {len(A.nullspace())}')"
      ],
      "metadata": {
        "colab": {
          "base_uri": "https://localhost:8080/",
          "height": 0
        },
        "id": "9fOfnO_G8OFI",
        "outputId": "6821e0ad-0c07-496d-8503-deb95271a25d"
      },
      "execution_count": 39,
      "outputs": [
        {
          "output_type": "stream",
          "name": "stdout",
          "text": [
            "dim_ker(A - λI) = 1\n",
            "dim_ker(B - λI) = 2\n",
            "dim_ker(C - λI) = 2\n",
            "dim_ker(D - λI) = 3\n",
            "dim_ker(E - λI) = 3\n",
            "dim_ker(F - λI) = 4\n",
            "dim_ker(G - λI) = 5\n"
          ]
        }
      ]
    },
    {
      "cell_type": "markdown",
      "source": [
        "## Podpunkt d | Subpoint d\n",
        "\n",
        "**[PL]** Napisz hipotezę w której dla macierzy X nad C, która posiada jedną wartość własną, napisz wzór na liczbę\n",
        "klatek Jordana macierzy X w zależności od dim ker(X − λI)\n",
        "\n",
        "**[EN]** Write a hypothesis in which, for a matrix X over C, which has one eigenvalue, write a formula for the number of\n",
        "Jordan frames of matrix X depending on dim ker(X - λI)\n",
        "\n"
      ],
      "metadata": {
        "id": "7H7L2YkPOLDz"
      }
    },
    {
      "cell_type": "markdown",
      "source": [
        "**Answer:**\n",
        "\n",
        "**[PL]** Hipoteza: Liczba klatek = dimker(X - λI)\n",
        "\n",
        "**[EN]** Hipothesis: Number of frames = dimker(X - λI)"
      ],
      "metadata": {
        "id": "KA4nZ8i5y51E"
      }
    },
    {
      "cell_type": "markdown",
      "source": [
        "## Podpunkt g | Subpoint g\n",
        "\n",
        "**[PL]** Dla każdej macierzy X z zadania oblicz kolejne wymiary jader\n",
        "przekształceń X − λI, (X − λI)^2 , (X − λI)^3 , . . ..\n",
        "\n",
        "**[EN]** For each matrix X from the task, calculate the successive dimensions of the kernels\n",
        "transformations X - λI, (X - λI)^2 , (X - λI)^3 , . . .."
      ],
      "metadata": {
        "id": "8MCujolcrPMY"
      }
    },
    {
      "cell_type": "code",
      "source": [
        "def kernelPowers(X, n):\n",
        "  Y = X - list(X.eigenvals().keys())[0] * Matrix.eye(X.shape[0])\n",
        "  powers = []\n",
        "  for j in range(1, n + 1):\n",
        "    d = len((Y**j).nullspace())\n",
        "    powers.append(d) \n",
        "  return powers"
      ],
      "metadata": {
        "id": "UlTghDaMdKPT"
      },
      "execution_count": 40,
      "outputs": []
    },
    {
      "cell_type": "code",
      "source": [
        "for i, X in enumerate(matrices):\n",
        "  A = X - eigenvalue * Matrix.eye(X.shape[0])\n",
        "  print(f'For matrix {letters[i]}: ', end=\"\")\n",
        "  print(kernelPowers(A, 7))\n",
        "  print('------------------------------------')"
      ],
      "metadata": {
        "id": "vbau7dPMRUn6",
        "colab": {
          "base_uri": "https://localhost:8080/",
          "height": 0
        },
        "outputId": "455d76f5-67ae-4ed5-97f8-ddb514637ad5"
      },
      "execution_count": 41,
      "outputs": [
        {
          "output_type": "stream",
          "name": "stdout",
          "text": [
            "For matrix A: [1, 2, 3, 4, 5, 5, 5]\n",
            "------------------------------------\n",
            "For matrix B: [2, 3, 4, 5, 5, 5, 5]\n",
            "------------------------------------\n",
            "For matrix C: [2, 4, 5, 5, 5, 5, 5]\n",
            "------------------------------------\n",
            "For matrix D: [3, 4, 5, 5, 5, 5, 5]\n",
            "------------------------------------\n",
            "For matrix E: [3, 5, 5, 5, 5, 5, 5]\n",
            "------------------------------------\n",
            "For matrix F: [4, 5, 5, 5, 5, 5, 5]\n",
            "------------------------------------\n",
            "For matrix G: [5, 5, 5, 5, 5, 5, 5]\n",
            "------------------------------------\n"
          ]
        }
      ]
    },
    {
      "cell_type": "markdown",
      "source": [
        "**[PL]** Hipoteza: klatek będzie d1  \n",
        "\n",
        "Klatek stopnia większego od 1 będzie d2 − d1 \n",
        "\n",
        "Klatek stopnia większego od 2 będzie d3 − d2 \n",
        "\n",
        "Klatek stopnia większego od 3 będzie d4 − d3 \n",
        "\n",
        "Klatek stopnia większego od 4 będzie d5 − d4 \n",
        "\n",
        "**[EN]** Hypothesis: There will be d1 frames  \n",
        "\n",
        "Frames of degree greater than 1 will be d2 - d1 \n",
        "\n",
        "Frames of degree greater than 2 will be d3 - d2 \n",
        "\n",
        "Frames of degree greater than 3 will be d4 - d3 \n",
        "\n",
        "Frames of degree greater than 4 will be d5 - d4"
      ],
      "metadata": {
        "id": "HW4TbVGJqSbl"
      }
    },
    {
      "cell_type": "markdown",
      "source": [
        "## Podpunkt h | Subpoint h\n",
        "\n",
        "**[PL]** Zweryfikuj znalezioną zależność z poprzedniego podpunktu dla następujących macierzy H oraz K:\n",
        "\n",
        "**[EN]** Verify the relationship found from the previous subpoint for the following matrices H and K:"
      ],
      "metadata": {
        "id": "B7kk7WQNX_JR"
      }
    },
    {
      "cell_type": "code",
      "source": [
        "H = Matrix([[-17, -26, -3, 6, -3, 25],[4, 9, 1, -2, 2, -7],[-19, -28, -1, 6, -5, 27],[-1, -2, 0, 2, -1, 2],[-20, -27, -3, 6, -1, 26],[-15, -19, -2, 4, -1, 20]])\n",
        "K = Matrix([[-14, -24, -3, 5, -4, 23], [9, 16, 1, -4, 4, -14], [-18, -27, -1, 6, -5, 26], [0, 0, 0, 2, 0, 0], [-16, -24, -3, 5, -2, 23], [-7, -10, -2, 1, 0, 11]])\n",
        "print('Matrix H')\n",
        "pprint(H)\n",
        "print()\n",
        "print('Matrix K')\n",
        "pprint(K)"
      ],
      "metadata": {
        "colab": {
          "base_uri": "https://localhost:8080/",
          "height": 0
        },
        "id": "3jOiup8vYTZO",
        "outputId": "7f0b3f14-37cd-4496-8cc4-f862ca5b5edd"
      },
      "execution_count": 42,
      "outputs": [
        {
          "output_type": "stream",
          "name": "stdout",
          "text": [
            "Matrix H\n",
            "⎡-17  -26  -3  6   -3  25⎤\n",
            "⎢                        ⎥\n",
            "⎢ 4    9   1   -2  2   -7⎥\n",
            "⎢                        ⎥\n",
            "⎢-19  -28  -1  6   -5  27⎥\n",
            "⎢                        ⎥\n",
            "⎢-1   -2   0   2   -1  2 ⎥\n",
            "⎢                        ⎥\n",
            "⎢-20  -27  -3  6   -1  26⎥\n",
            "⎢                        ⎥\n",
            "⎣-15  -19  -2  4   -1  20⎦\n",
            "\n",
            "Matrix K\n",
            "⎡-14  -24  -3  5   -4  23 ⎤\n",
            "⎢                         ⎥\n",
            "⎢ 9   16   1   -4  4   -14⎥\n",
            "⎢                         ⎥\n",
            "⎢-18  -27  -1  6   -5  26 ⎥\n",
            "⎢                         ⎥\n",
            "⎢ 0    0   0   2   0    0 ⎥\n",
            "⎢                         ⎥\n",
            "⎢-16  -24  -3  5   -2  23 ⎥\n",
            "⎢                         ⎥\n",
            "⎣-7   -10  -2  1   0   11 ⎦\n"
          ]
        }
      ]
    },
    {
      "cell_type": "markdown",
      "source": [
        "**[PL]** Wyznacz wartości własne macierzy Y (Y to ustalona macierz z tego podpunktu), też okaże się, że macierz\n",
        "Y ma tylko jedną wartość własną\n",
        "\n",
        "**[EN]** Determine the eigenvalues of the matrix Y (Y is the fixed matrix from this subsection), also you will find that the matrix\n",
        "Y has only one eigenvalue"
      ],
      "metadata": {
        "id": "ROsfgxXcZVtX"
      }
    },
    {
      "cell_type": "code",
      "source": [
        "print('Matrix H eigenvalues and multiplicity: ', end=\"\")\n",
        "pprint(H.eigenvals())\n",
        "print('Matrix K eigenvalues and multiplicity: ', end=\"\")\n",
        "pprint(K.eigenvals())"
      ],
      "metadata": {
        "colab": {
          "base_uri": "https://localhost:8080/",
          "height": 0
        },
        "id": "vhH6hmCcZXMq",
        "outputId": "8fb2c2d1-0954-4750-a734-d7a71cc74d08"
      },
      "execution_count": 43,
      "outputs": [
        {
          "output_type": "stream",
          "name": "stdout",
          "text": [
            "Matrix H eigenvalues and multiplicity: {2: 6}\n",
            "Matrix K eigenvalues and multiplicity: {2: 6}\n"
          ]
        }
      ]
    },
    {
      "cell_type": "code",
      "source": [
        "eigenvalue = list(H.eigenvals().keys())[0]\n",
        "print(f'Eigenvalue of H i K equals {eigenvalue}')"
      ],
      "metadata": {
        "colab": {
          "base_uri": "https://localhost:8080/",
          "height": 0
        },
        "id": "kMPDd_gLacxt",
        "outputId": "79af25b1-8915-4303-fbc0-7632adca426b"
      },
      "execution_count": 44,
      "outputs": [
        {
          "output_type": "stream",
          "name": "stdout",
          "text": [
            "Eigenvalue of H i K equals 2\n"
          ]
        }
      ]
    },
    {
      "cell_type": "markdown",
      "source": [
        "**[PL]** Oblicz dim ker(Y − λI), dim ker(Y − λI)^2 , dim ker(Y − λI)^3 , . . .. I na podstawie tego zapisz wielkości poszczególnych klatek Jordana macierzy Y .\n",
        "\n",
        "**[EN]** Calculate dim ker(Y - λI), dim ker(Y - λI)^2 , dim ker(Y - λI)^3 , . . .. And based on this, record the sizes of the individual Jordan frames of the matrix Y ."
      ],
      "metadata": {
        "id": "ZJ9vQtD_Z7Z5"
      }
    },
    {
      "cell_type": "code",
      "source": [
        "A = H - eigenvalue * Matrix.eye(H.shape[0])\n",
        "print('For matrix H: ', end=\"\")\n",
        "print(kernelPowers(H, 8))\n",
        "print('------------------------')\n",
        "A = K - eigenvalue * Matrix.eye(K.shape[0])\n",
        "print('For matrix K: ', end=\"\")\n",
        "print(kernelPowers(K, 8))\n",
        "print('------------------------')"
      ],
      "metadata": {
        "colab": {
          "base_uri": "https://localhost:8080/",
          "height": 0
        },
        "id": "_k4wndhEaNwn",
        "outputId": "98074650-0910-407d-aa4e-d970cbd450eb"
      },
      "execution_count": 45,
      "outputs": [
        {
          "output_type": "stream",
          "name": "stdout",
          "text": [
            "For matrix H: [2, 4, 6, 6, 6, 6, 6, 6]\n",
            "------------------------\n",
            "For matrix K: [3, 4, 5, 6, 6, 6, 6, 6]\n",
            "------------------------\n"
          ]
        }
      ]
    },
    {
      "cell_type": "markdown",
      "source": [
        "Predicted number of frames:"
      ],
      "metadata": {
        "id": "JZ3sM8v3lr2g"
      }
    },
    {
      "cell_type": "code",
      "source": [
        "def blocksPredictor(X):\n",
        "  blocks = kernelPowers(X, 7)\n",
        "  print(blocks)\n",
        "  print('------------------------------')\n",
        "  print(f'Number of frames: {blocks[0]}')\n",
        "  for i in range(1, shape(X)[0]):\n",
        "    print(f'Frames of size greater than {i} will be {blocks[i] - blocks[i - 1]}')"
      ],
      "metadata": {
        "id": "irW31uXwlqXH"
      },
      "execution_count": 46,
      "outputs": []
    },
    {
      "cell_type": "code",
      "source": [
        "print('For matrix H')\n",
        "blocksPredictor(H)\n",
        "print()\n",
        "print('H Jordan form:')\n",
        "pprint(H.jordan_form()[1])\n",
        "print()\n",
        "print('================================================================')\n",
        "print()\n",
        "print('For matrix K')\n",
        "blocksPredictor(K)\n",
        "print()\n",
        "print('K Jordan form:')\n",
        "pprint(K.jordan_form()[1])"
      ],
      "metadata": {
        "colab": {
          "base_uri": "https://localhost:8080/",
          "height": 0
        },
        "id": "U2_m3LL9o4aH",
        "outputId": "3b0dafe2-f599-4b7d-eac8-c8655fb91f63"
      },
      "execution_count": 47,
      "outputs": [
        {
          "output_type": "stream",
          "name": "stdout",
          "text": [
            "For matrix H\n",
            "[2, 4, 6, 6, 6, 6, 6]\n",
            "------------------------------\n",
            "Number of frames: 2\n",
            "Frames of size greater than 1 will be 2\n",
            "Frames of size greater than 2 will be 2\n",
            "Frames of size greater than 3 will be 0\n",
            "Frames of size greater than 4 will be 0\n",
            "Frames of size greater than 5 will be 0\n",
            "\n",
            "H Jordan form:\n",
            "⎡2  1  0  0  0  0⎤\n",
            "⎢                ⎥\n",
            "⎢0  2  1  0  0  0⎥\n",
            "⎢                ⎥\n",
            "⎢0  0  2  0  0  0⎥\n",
            "⎢                ⎥\n",
            "⎢0  0  0  2  1  0⎥\n",
            "⎢                ⎥\n",
            "⎢0  0  0  0  2  1⎥\n",
            "⎢                ⎥\n",
            "⎣0  0  0  0  0  2⎦\n",
            "\n",
            "================================================================\n",
            "\n",
            "For matrix K\n",
            "[3, 4, 5, 6, 6, 6, 6]\n",
            "------------------------------\n",
            "Number of frames: 3\n",
            "Frames of size greater than 1 will be 1\n",
            "Frames of size greater than 2 will be 1\n",
            "Frames of size greater than 3 will be 1\n",
            "Frames of size greater than 4 will be 0\n",
            "Frames of size greater than 5 will be 0\n",
            "\n",
            "K Jordan form:\n",
            "⎡2  1  0  0  0  0⎤\n",
            "⎢                ⎥\n",
            "⎢0  2  1  0  0  0⎥\n",
            "⎢                ⎥\n",
            "⎢0  0  2  1  0  0⎥\n",
            "⎢                ⎥\n",
            "⎢0  0  0  2  0  0⎥\n",
            "⎢                ⎥\n",
            "⎢0  0  0  0  2  0⎥\n",
            "⎢                ⎥\n",
            "⎣0  0  0  0  0  2⎦\n"
          ]
        }
      ]
    },
    {
      "cell_type": "markdown",
      "source": [
        "# Zadanko 3 | Task 3\n",
        "**[PL]** Znajdź macierz realizujacą podobieństwo dla macierzy H\n",
        "\n",
        "**[EN]** Find the matrix realizing the similarity for the matrix H."
      ],
      "metadata": {
        "id": "sr4hTKvyHaen"
      }
    },
    {
      "cell_type": "code",
      "source": [
        "h=[[-17, -26, -3, 6, -3, 25], [4, 9, 1, -2, 2, -7], [-19, -28, -1, 6, -5, 27], [-1, -2, 0, 2, -1, 2], [-20, -27, -3, 6, -1, 26], [-15, -19, -2, 4, -1, 20]]\n",
        "H = Matrix(h)\n",
        "P,J = Matrix.jordan_form(H)\n",
        "\n",
        "displayList = [P, P**-1]\n",
        "pprint(displayList)\n",
        "print()\n",
        "print(f'Checking if True:')\n",
        "print((P * J * P**(-1)) == H)\n",
        "\n",
        "\n"
      ],
      "metadata": {
        "colab": {
          "base_uri": "https://localhost:8080/",
          "height": 0
        },
        "id": "gm1PzKFbIZAN",
        "outputId": "2256d635-30dd-44e5-8032-a2293152888c"
      },
      "execution_count": 50,
      "outputs": [
        {
          "output_type": "stream",
          "name": "stdout",
          "text": [
            "⎡                           ⎡             80    -47        ⎤⎤\n",
            "⎢                           ⎢0  0  5/27   ──    ────  17/9 ⎥⎥\n",
            "⎢⎡-7  -19  1  -10  -26  0⎤  ⎢             27     27        ⎥⎥\n",
            "⎢⎢                       ⎥  ⎢                              ⎥⎥\n",
            "⎢⎢0    4   0   0    7   1⎥  ⎢0  0  8/9   -16/9  -5/9  -1/3 ⎥⎥\n",
            "⎢⎢                       ⎥  ⎢                              ⎥⎥\n",
            "⎢⎢-5  -19  0  -8   -28  0⎥  ⎢1  0  -1/3   2/3   -2/3    0  ⎥⎥\n",
            "⎢⎢                       ⎥, ⎢                              ⎥⎥\n",
            "⎢⎢1   -1   0   1   -2   0⎥  ⎢      -11   -41     44        ⎥⎥\n",
            "⎢⎢                       ⎥  ⎢0  0  ────  ────    ──   -14/9⎥⎥\n",
            "⎢⎢-7  -20  0  -10  -27  0⎥  ⎢       27    27     27        ⎥⎥\n",
            "⎢⎢                       ⎥  ⎢                              ⎥⎥\n",
            "⎢⎣-7  -15  0  -10  -19  0⎦  ⎢0  0  -5/9  10/9   2/9    1/3 ⎥⎥\n",
            "⎢                           ⎢                              ⎥⎥\n",
            "⎣                           ⎣0  1  1/3   -2/3   2/3    -1  ⎦⎦\n",
            "\n",
            "Checking if True:\n",
            "True\n"
          ]
        }
      ]
    },
    {
      "cell_type": "markdown",
      "source": [
        "# Zadanko 5 | Task 5\n",
        "\n",
        "**[PL]** Podnieś macierz C z zadanka 2. do potęgi 2021, korzystając z postaci Jordana macierzy C\n",
        "\n",
        "**[EN]** Raise the matrix C from Task 2 to the power of 2021 using the Jordan form of the matrix C."
      ],
      "metadata": {
        "id": "RtB-Qg1dLsmc"
      }
    },
    {
      "cell_type": "code",
      "source": [
        "C = matrices[2]\n",
        "C"
      ],
      "metadata": {
        "colab": {
          "base_uri": "https://localhost:8080/",
          "height": 119
        },
        "id": "3gjwOk5GL6Ga",
        "outputId": "b6c2b326-d048-4bcf-e5cd-ebd606e0f770"
      },
      "execution_count": 51,
      "outputs": [
        {
          "output_type": "execute_result",
          "data": {
            "text/plain": [
              "⎡-9  1   2  -5  6 ⎤\n",
              "⎢                 ⎥\n",
              "⎢-2  -1  0  -2  2 ⎥\n",
              "⎢                 ⎥\n",
              "⎢-5  1   1  -4  3 ⎥\n",
              "⎢                 ⎥\n",
              "⎢1   0   0  -1  -1⎥\n",
              "⎢                 ⎥\n",
              "⎣-8  1   2  -5  5 ⎦"
            ],
            "text/latex": "$\\displaystyle \\left[\\begin{matrix}-9 & 1 & 2 & -5 & 6\\\\-2 & -1 & 0 & -2 & 2\\\\-5 & 1 & 1 & -4 & 3\\\\1 & 0 & 0 & -1 & -1\\\\-8 & 1 & 2 & -5 & 5\\end{matrix}\\right]$"
          },
          "metadata": {},
          "execution_count": 51
        }
      ]
    },
    {
      "cell_type": "code",
      "source": [
        "P, J = C.jordan_form()\n",
        "J"
      ],
      "metadata": {
        "colab": {
          "base_uri": "https://localhost:8080/",
          "height": 119
        },
        "id": "delWsf3XMmFp",
        "outputId": "d2ec644a-6ea2-4528-a8e8-f29334ce28d5"
      },
      "execution_count": 52,
      "outputs": [
        {
          "output_type": "execute_result",
          "data": {
            "text/plain": [
              "⎡-1  1   0   0   0 ⎤\n",
              "⎢                  ⎥\n",
              "⎢0   -1  1   0   0 ⎥\n",
              "⎢                  ⎥\n",
              "⎢0   0   -1  0   0 ⎥\n",
              "⎢                  ⎥\n",
              "⎢0   0   0   -1  1 ⎥\n",
              "⎢                  ⎥\n",
              "⎣0   0   0   0   -1⎦"
            ],
            "text/latex": "$\\displaystyle \\left[\\begin{matrix}-1 & 1 & 0 & 0 & 0\\\\0 & -1 & 1 & 0 & 0\\\\0 & 0 & -1 & 0 & 0\\\\0 & 0 & 0 & -1 & 1\\\\0 & 0 & 0 & 0 & -1\\end{matrix}\\right]$"
          },
          "metadata": {},
          "execution_count": 52
        }
      ]
    },
    {
      "cell_type": "code",
      "source": [
        "N = P**-1\n",
        "N"
      ],
      "metadata": {
        "colab": {
          "base_uri": "https://localhost:8080/",
          "height": 119
        },
        "id": "AeiQHElSOAB7",
        "outputId": "117bfdf0-b530-46c8-bd39-78809b12d5af"
      },
      "execution_count": 53,
      "outputs": [
        {
          "output_type": "execute_result",
          "data": {
            "text/plain": [
              "⎡0  0  1  -3  -1⎤\n",
              "⎢               ⎥\n",
              "⎢0  0  0  1   0 ⎥\n",
              "⎢               ⎥\n",
              "⎢1  0  0  0   -1⎥\n",
              "⎢               ⎥\n",
              "⎢0  0  1  5   0 ⎥\n",
              "⎢               ⎥\n",
              "⎣0  1  2  -4  -2⎦"
            ],
            "text/latex": "$\\displaystyle \\left[\\begin{matrix}0 & 0 & 1 & -3 & -1\\\\0 & 0 & 0 & 1 & 0\\\\1 & 0 & 0 & 0 & -1\\\\0 & 0 & 1 & 5 & 0\\\\0 & 1 & 2 & -4 & -2\\end{matrix}\\right]$"
          },
          "metadata": {},
          "execution_count": 53
        }
      ]
    },
    {
      "cell_type": "code",
      "source": [
        "# C = N^-1 * J * N\n",
        "C == (N**(-1) * J * N)"
      ],
      "metadata": {
        "colab": {
          "base_uri": "https://localhost:8080/",
          "height": 0
        },
        "id": "7V7VXBYWQdH_",
        "outputId": "2536ba94-bbf4-49bb-ec89-56dd8cb504bd"
      },
      "execution_count": 54,
      "outputs": [
        {
          "output_type": "execute_result",
          "data": {
            "text/plain": [
              "True"
            ]
          },
          "metadata": {},
          "execution_count": 54
        }
      ]
    },
    {
      "cell_type": "code",
      "source": [
        "# C^2021 = N^-1 * J * N * N^-1 * J * N * ... * N * J * N^-1 = N^-1 * J^2021 * N\n",
        "N**(-1) * J**(2021) * N"
      ],
      "metadata": {
        "colab": {
          "base_uri": "https://localhost:8080/",
          "height": 119
        },
        "id": "CdgijzN_M4dD",
        "outputId": "84b483c8-d5e6-4dcd-9623-937b8198dbb3"
      },
      "execution_count": 55,
      "outputs": [
        {
          "output_type": "execute_result",
          "data": {
            "text/plain": [
              "⎡2025041  2021  4042  -10105  -2029084⎤\n",
              "⎢                                     ⎥\n",
              "⎢4078378   -1    0    -4042   -4078378⎥\n",
              "⎢                                     ⎥\n",
              "⎢-10105   2021  4041  -8084     6063  ⎥\n",
              "⎢                                     ⎥\n",
              "⎢ 2021     0     0      -1     -2021  ⎥\n",
              "⎢                                     ⎥\n",
              "⎣2025042  2021  4042  -10105  -2029085⎦"
            ],
            "text/latex": "$\\displaystyle \\left[\\begin{matrix}2025041 & 2021 & 4042 & -10105 & -2029084\\\\4078378 & -1 & 0 & -4042 & -4078378\\\\-10105 & 2021 & 4041 & -8084 & 6063\\\\2021 & 0 & 0 & -1 & -2021\\\\2025042 & 2021 & 4042 & -10105 & -2029085\\end{matrix}\\right]$"
          },
          "metadata": {},
          "execution_count": 55
        }
      ]
    },
    {
      "cell_type": "code",
      "source": [
        "#Checking if True\n",
        "C**2021 == N**(-1) * J**(2021) * N"
      ],
      "metadata": {
        "colab": {
          "base_uri": "https://localhost:8080/",
          "height": 0
        },
        "id": "z2Be2ZRpPB3-",
        "outputId": "e4fed2c8-6c30-44c3-e8e2-f864a014e4c5"
      },
      "execution_count": 56,
      "outputs": [
        {
          "output_type": "execute_result",
          "data": {
            "text/plain": [
              "True"
            ]
          },
          "metadata": {},
          "execution_count": 56
        }
      ]
    },
    {
      "cell_type": "markdown",
      "source": [
        "# Zadanko 6 | Task 6\n",
        "\n",
        "**[PL]** Niech A ∈ Mn (C) będzie macierzą nilpotentną (tzn. taka, której jedyna wartość własna to 0). Podaj\n",
        "przykład (lub uzasadnij, że to niemożliwe) takiego A w postaci Jordana, że...\n",
        "\n",
        "**[PL]** Let A ∈ Mn (C) be a nilpotent matrix (i.e., one whose only eigenvalue is 0). Give\n",
        "example (or justify that it is impossible) of such an A in Jordan form that...."
      ],
      "metadata": {
        "id": "dffMIkUO-AXP"
      }
    },
    {
      "cell_type": "markdown",
      "source": [
        "## Podpunkt a | Subpoint a\n",
        "\n",
        "dim ker A^k = 1, 2, 3, 4, 4, 4...   \n",
        "k= 1, 2, 3 ..."
      ],
      "metadata": {
        "id": "3VREwlBhDsFE"
      }
    },
    {
      "cell_type": "code",
      "source": [
        "X = Matrix([[1, 1, 3, -2], [-1, 3, 4, -2], [0, 0, 1, 1], [0, 0, -1, 3]])\n",
        "X"
      ],
      "metadata": {
        "colab": {
          "base_uri": "https://localhost:8080/",
          "height": 99
        },
        "id": "gvpc9dQgh6eq",
        "outputId": "88ee11d1-c8b1-48fc-c3c7-bb7a1011f35e"
      },
      "execution_count": 57,
      "outputs": [
        {
          "output_type": "execute_result",
          "data": {
            "text/plain": [
              "⎡1   1  3   -2⎤\n",
              "⎢             ⎥\n",
              "⎢-1  3  4   -2⎥\n",
              "⎢             ⎥\n",
              "⎢0   0  1   1 ⎥\n",
              "⎢             ⎥\n",
              "⎣0   0  -1  3 ⎦"
            ],
            "text/latex": "$\\displaystyle \\left[\\begin{matrix}1 & 1 & 3 & -2\\\\-1 & 3 & 4 & -2\\\\0 & 0 & 1 & 1\\\\0 & 0 & -1 & 3\\end{matrix}\\right]$"
          },
          "metadata": {},
          "execution_count": 57
        }
      ]
    },
    {
      "cell_type": "code",
      "source": [
        "print(kernelPowers(X, 9))"
      ],
      "metadata": {
        "colab": {
          "base_uri": "https://localhost:8080/",
          "height": 0
        },
        "id": "uaBkwf5RUOQk",
        "outputId": "b0a27b10-adb9-4da4-ce8f-1c125c431492"
      },
      "execution_count": 59,
      "outputs": [
        {
          "output_type": "stream",
          "name": "stdout",
          "text": [
            "[1, 2, 3, 4, 4, 4, 4, 4, 4]\n"
          ]
        }
      ]
    },
    {
      "cell_type": "markdown",
      "source": [
        "Another example: "
      ],
      "metadata": {
        "id": "rR3nm847iJ31"
      }
    },
    {
      "cell_type": "code",
      "source": [
        "X = Matrix([[0, 1, 1, 1], [0, 0, 1, 0], [0, 0, 0, 1], [0, 0, 0, 0]])\n",
        "X"
      ],
      "metadata": {
        "colab": {
          "base_uri": "https://localhost:8080/",
          "height": 99
        },
        "id": "8NnHHDjiiFfl",
        "outputId": "a6646749-733c-4815-83a7-463e44fc9887"
      },
      "execution_count": 55,
      "outputs": [
        {
          "output_type": "execute_result",
          "data": {
            "text/plain": [
              "⎡0  1  1  1⎤\n",
              "⎢          ⎥\n",
              "⎢0  0  1  0⎥\n",
              "⎢          ⎥\n",
              "⎢0  0  0  1⎥\n",
              "⎢          ⎥\n",
              "⎣0  0  0  0⎦"
            ],
            "text/latex": "$\\displaystyle \\left[\\begin{matrix}0 & 1 & 1 & 1\\\\0 & 0 & 1 & 0\\\\0 & 0 & 0 & 1\\\\0 & 0 & 0 & 0\\end{matrix}\\right]$"
          },
          "metadata": {},
          "execution_count": 55
        }
      ]
    },
    {
      "cell_type": "code",
      "source": [
        "print(kernelPowers(X, 9))"
      ],
      "metadata": {
        "colab": {
          "base_uri": "https://localhost:8080/",
          "height": 0
        },
        "id": "Yb1j-YtCQbzU",
        "outputId": "6f8145f6-1c94-4950-97e0-743aa4e58556"
      },
      "execution_count": 60,
      "outputs": [
        {
          "output_type": "stream",
          "name": "stdout",
          "text": [
            "[1, 2, 3, 4, 4, 4, 4, 4, 4]\n"
          ]
        }
      ]
    },
    {
      "cell_type": "markdown",
      "source": [
        "## Podpunkt b | Subpoint b\n",
        " \n",
        "dim ker A^k = 2, 4, 5, 5, 5...   \n",
        "k=1, 2, 3 ..."
      ],
      "metadata": {
        "id": "eo2oxzKnigMS"
      }
    },
    {
      "cell_type": "code",
      "source": [
        "X = Matrix([[-9, 1, 2, -5, 6], [-2, -1, 0, -2, 2], [-5, 1, 1, -4, 3], [1, 0, 0, -1, -1], [-8, 1, 2, -5, 5]])\n",
        "X"
      ],
      "metadata": {
        "colab": {
          "base_uri": "https://localhost:8080/",
          "height": 119
        },
        "id": "ba7oX8YrlG2v",
        "outputId": "5fd6830c-81e3-4fde-ea64-26b00603be13"
      },
      "execution_count": 62,
      "outputs": [
        {
          "output_type": "execute_result",
          "data": {
            "text/plain": [
              "⎡-9  1   2  -5  6 ⎤\n",
              "⎢                 ⎥\n",
              "⎢-2  -1  0  -2  2 ⎥\n",
              "⎢                 ⎥\n",
              "⎢-5  1   1  -4  3 ⎥\n",
              "⎢                 ⎥\n",
              "⎢1   0   0  -1  -1⎥\n",
              "⎢                 ⎥\n",
              "⎣-8  1   2  -5  5 ⎦"
            ],
            "text/latex": "$\\displaystyle \\left[\\begin{matrix}-9 & 1 & 2 & -5 & 6\\\\-2 & -1 & 0 & -2 & 2\\\\-5 & 1 & 1 & -4 & 3\\\\1 & 0 & 0 & -1 & -1\\\\-8 & 1 & 2 & -5 & 5\\end{matrix}\\right]$"
          },
          "metadata": {},
          "execution_count": 62
        }
      ]
    },
    {
      "cell_type": "code",
      "source": [
        "print(kernelPowers(X, 9))"
      ],
      "metadata": {
        "colab": {
          "base_uri": "https://localhost:8080/",
          "height": 0
        },
        "id": "YFVt3UJhlKzC",
        "outputId": "71ce97ce-4513-4651-a762-d55cbf4465f9"
      },
      "execution_count": 63,
      "outputs": [
        {
          "output_type": "stream",
          "name": "stdout",
          "text": [
            "[2, 4, 5, 5, 5, 5, 5, 5, 5]\n"
          ]
        }
      ]
    }
  ]
}